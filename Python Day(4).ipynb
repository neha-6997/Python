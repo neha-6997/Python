{
 "cells": [
  {
   "cell_type": "code",
   "execution_count": 3,
   "id": "238cd29e",
   "metadata": {},
   "outputs": [
    {
     "name": "stdout",
     "output_type": "stream",
     "text": [
      "<__main__.Person object at 0x0000020F842FFB80>\n",
      "Alec baldwin was born in 1958.\n"
     ]
    }
   ],
   "source": [
    "class Person:\n",
    "    pass\n",
    "john_doe=Person()\n",
    "john_doe.name=\"Alec\"\n",
    "john_doe.surname=\"baldwin\"\n",
    "john_doe.year_of_birth=1958\n",
    "\n",
    "print(john_doe)\n",
    "print(\"%s %s was born in %d.\"%\n",
    "     (john_doe.name, john_doe.surname, john_doe.year_of_birth))"
   ]
  },
  {
   "cell_type": "code",
   "execution_count": null,
   "id": "49bebd16",
   "metadata": {},
   "outputs": [],
   "source": [
    "class Person:\n",
    "    def __init__(self,name,surname,year_of_birth):\n",
    "        self.name=name\n",
    "        self.surname=surname\n",
    "        self.year_of_birth=year_of_birth"
   ]
  },
  {
   "cell_type": "code",
   "execution_count": 5,
   "id": "161ea7b5",
   "metadata": {},
   "outputs": [
    {
     "name": "stdout",
     "output_type": "stream",
     "text": [
      "<__main__.Person object at 0x0000020F842FF430>\n",
      "Alec baldwin was born in 1958\n"
     ]
    }
   ],
   "source": [
    "alec=Person(\"Alec\",\"baldwin\",1958)\n",
    "print(alec)\n",
    "print(\"%s %s was born in %d\"%(alec.name,alec.surname,alec.year_of_birth))"
   ]
  },
  {
   "cell_type": "markdown",
   "id": "ef9a55aa",
   "metadata": {},
   "source": [
    "### 1.2 Method"
   ]
  },
  {
   "cell_type": "code",
   "execution_count": 9,
   "id": "03d659e8",
   "metadata": {},
   "outputs": [
    {
     "name": "stdout",
     "output_type": "stream",
     "text": [
      "Alec Baldwin was born in 1958.\n",
      "61\n"
     ]
    }
   ],
   "source": [
    "class Person:\n",
    "    def __init__(self,name,surname,year_of_birth):\n",
    "        self.name=name\n",
    "        self.surname=surname\n",
    "        self.year_of_birth=year_of_birth\n",
    "        \n",
    "    def age(self, current_year):\n",
    "        return current_year - self.year_of_birth\n",
    "    def __str__(self):\n",
    "        return \"%s %s was born in %d.\"%(self.name,self.surname,self.year_of_birth)\n",
    "alec=Person(\"Alec\",\"Baldwin\",1958)\n",
    "print(alec)\n",
    "print(alec.age(2019))\n"
   ]
  },
  {
   "cell_type": "markdown",
   "id": "0b0acacb",
   "metadata": {},
   "source": [
    "### 2 Inheritance"
   ]
  },
  {
   "cell_type": "code",
   "execution_count": 13,
   "id": "a273dfae",
   "metadata": {},
   "outputs": [
    {
     "name": "stdout",
     "output_type": "stream",
     "text": [
      "Charlie Brown was born in 2006.\n",
      "<class '__main__.Student'>\n",
      "True\n",
      "True\n"
     ]
    }
   ],
   "source": [
    "class Student(Person):\n",
    "    def __init__(self, student_id,*args,**kwargs):\n",
    "        super (Student,self).__init__(*args,**kwargs)\n",
    "        self._student_id=student_id\n",
    "        \n",
    "charlie=Student(1,'Charlie','Brown',2006)\n",
    "print(charlie)\n",
    "print(type (charlie))\n",
    "print(isinstance (charlie,Person))\n",
    "print(isinstance (charlie,object))\n"
   ]
  },
  {
   "cell_type": "markdown",
   "id": "0572230b",
   "metadata": {},
   "source": [
    "#### 2.1 Overriding methods"
   ]
  },
  {
   "cell_type": "code",
   "execution_count": 19,
   "id": "6727e5ae",
   "metadata": {},
   "outputs": [
    {
     "name": "stdout",
     "output_type": "stream",
     "text": [
      "Charlie Brown was born in 2006. And has ID: 1\n"
     ]
    }
   ],
   "source": [
    "class Student(Person):\n",
    "    def __init__(self,student_id,*args,**kwargs):\n",
    "        super(Student,self).__init__(*args,**kwargs)\n",
    "        self._student_id=student_id\n",
    "    \n",
    "    def __str__(self):\n",
    "        return super(Student,self).__str__() + \" And has ID: %d\" % self._student_id\n",
    "\n",
    "charlie=Student(1,'Charlie','Brown',2006)\n",
    "print(charlie)"
   ]
  },
  {
   "cell_type": "markdown",
   "id": "03743049",
   "metadata": {},
   "source": [
    "### 3 Encapsulation"
   ]
  },
  {
   "cell_type": "markdown",
   "id": "c9c35183",
   "metadata": {},
   "source": [
    "#### 3.1 composition"
   ]
  },
  {
   "cell_type": "markdown",
   "id": "b47960a4",
   "metadata": {},
   "source": [
    "### 4 Polymorphisum and Duck Typing"
   ]
  },
  {
   "cell_type": "code",
   "execution_count": 1,
   "id": "775da933",
   "metadata": {},
   "outputs": [
    {
     "name": "stdout",
     "output_type": "stream",
     "text": [
      "2\n",
      "['a', 'b', 'c', 'd', 'e']\n",
      "abracadabra\n"
     ]
    }
   ],
   "source": [
    "def summer(a,b):\n",
    "    return a+b\n",
    "\n",
    "print(summer(1,1))\n",
    "print(summer([\"a\",\"b\",\"c\"],[\"d\",\"e\"]))\n",
    "print(summer(\"abra\",\"cadabra\"))"
   ]
  },
  {
   "cell_type": "markdown",
   "id": "8fd568c0",
   "metadata": {},
   "source": [
    "# Files"
   ]
  },
  {
   "cell_type": "markdown",
   "id": "cc2b039f",
   "metadata": {},
   "source": [
    "#### iPyton Writing a File"
   ]
  },
  {
   "cell_type": "code",
   "execution_count": 8,
   "id": "6bc41939",
   "metadata": {},
   "outputs": [
    {
     "name": "stdout",
     "output_type": "stream",
     "text": [
      "Writing tst.txt\n"
     ]
    }
   ],
   "source": [
    "%%writefile tst.txt\n",
    "hello,this is a quick test file"
   ]
  },
  {
   "cell_type": "markdown",
   "id": "7bc7c592",
   "metadata": {},
   "source": [
    "#### Pyton Opening a File"
   ]
  },
  {
   "cell_type": "code",
   "execution_count": 2,
   "id": "3975bb6c",
   "metadata": {},
   "outputs": [],
   "source": [
    "my_file=open('test.txt')"
   ]
  },
  {
   "cell_type": "code",
   "execution_count": 3,
   "id": "59aa6418",
   "metadata": {},
   "outputs": [
    {
     "data": {
      "text/plain": [
       "'hello,this is a quick test file\\n'"
      ]
     },
     "execution_count": 3,
     "metadata": {},
     "output_type": "execute_result"
    }
   ],
   "source": [
    "my_file.read()"
   ]
  },
  {
   "cell_type": "code",
   "execution_count": 4,
   "id": "3c56584e",
   "metadata": {},
   "outputs": [
    {
     "data": {
      "text/plain": [
       "''"
      ]
     },
     "execution_count": 4,
     "metadata": {},
     "output_type": "execute_result"
    }
   ],
   "source": [
    "my_file.read()"
   ]
  },
  {
   "cell_type": "code",
   "execution_count": 5,
   "id": "0dec5bc1",
   "metadata": {},
   "outputs": [
    {
     "data": {
      "text/plain": [
       "0"
      ]
     },
     "execution_count": 5,
     "metadata": {},
     "output_type": "execute_result"
    }
   ],
   "source": [
    "my_file.seek(0)"
   ]
  },
  {
   "cell_type": "code",
   "execution_count": 6,
   "id": "09b0125b",
   "metadata": {},
   "outputs": [
    {
     "data": {
      "text/plain": [
       "'hello,this is a quick test file\\n'"
      ]
     },
     "execution_count": 6,
     "metadata": {},
     "output_type": "execute_result"
    }
   ],
   "source": [
    "my_file.read()"
   ]
  },
  {
   "cell_type": "code",
   "execution_count": 7,
   "id": "fcadae68",
   "metadata": {},
   "outputs": [
    {
     "data": {
      "text/plain": [
       "0"
      ]
     },
     "execution_count": 7,
     "metadata": {},
     "output_type": "execute_result"
    }
   ],
   "source": [
    "my_file.seek(0) "
   ]
  },
  {
   "cell_type": "code",
   "execution_count": 13,
   "id": "0d370460",
   "metadata": {},
   "outputs": [
    {
     "data": {
      "text/plain": [
       "[]"
      ]
     },
     "execution_count": 13,
     "metadata": {},
     "output_type": "execute_result"
    }
   ],
   "source": [
    "my_file.readlines()"
   ]
  },
  {
   "cell_type": "markdown",
   "id": "eecf4056",
   "metadata": {},
   "source": [
    "### Writing to a file"
   ]
  },
  {
   "cell_type": "code",
   "execution_count": 18,
   "id": "235d069c",
   "metadata": {},
   "outputs": [],
   "source": [
    "my_file=open('superman.txt','w+')"
   ]
  },
  {
   "cell_type": "code",
   "execution_count": 19,
   "id": "b848aee8",
   "metadata": {},
   "outputs": [
    {
     "data": {
      "text/plain": [
       "18"
      ]
     },
     "execution_count": 19,
     "metadata": {},
     "output_type": "execute_result"
    }
   ],
   "source": [
    "my_file.write('This is a new line')"
   ]
  },
  {
   "cell_type": "code",
   "execution_count": 20,
   "id": "018e0b34",
   "metadata": {},
   "outputs": [
    {
     "data": {
      "text/plain": [
       "0"
      ]
     },
     "execution_count": 20,
     "metadata": {},
     "output_type": "execute_result"
    }
   ],
   "source": [
    "my_file.seek(0)"
   ]
  },
  {
   "cell_type": "code",
   "execution_count": 21,
   "id": "4b605ba8",
   "metadata": {},
   "outputs": [
    {
     "data": {
      "text/plain": [
       "'This is a new line'"
      ]
     },
     "execution_count": 21,
     "metadata": {},
     "output_type": "execute_result"
    }
   ],
   "source": [
    "my_file.read()"
   ]
  },
  {
   "cell_type": "markdown",
   "id": "8cadb862",
   "metadata": {},
   "source": [
    "### Iterating through a file"
   ]
  },
  {
   "cell_type": "code",
   "execution_count": 32,
   "id": "7b7759b5",
   "metadata": {},
   "outputs": [
    {
     "name": "stdout",
     "output_type": "stream",
     "text": [
      "Overwriting test.txt\n"
     ]
    }
   ],
   "source": [
    "%%writefile test.txt\n",
    "First Line\n",
    "Second Line"
   ]
  },
  {
   "cell_type": "code",
   "execution_count": 33,
   "id": "a9609df9",
   "metadata": {},
   "outputs": [
    {
     "name": "stdout",
     "output_type": "stream",
     "text": [
      "First Line\n",
      "\n",
      "Second Line\n",
      "\n"
     ]
    }
   ],
   "source": [
    "for line in open('test.txt'):\n",
    "    print(line)"
   ]
  },
  {
   "cell_type": "code",
   "execution_count": 36,
   "id": "9f9c962f",
   "metadata": {},
   "outputs": [
    {
     "name": "stdout",
     "output_type": "stream",
     "text": [
      "First Line\n",
      "\n",
      "Second Line\n",
      "\n"
     ]
    }
   ],
   "source": [
    "for asdf in open('test.txt'):\n",
    "    print(asdf)"
   ]
  },
  {
   "cell_type": "markdown",
   "id": "86a54c7d",
   "metadata": {},
   "source": [
    "## StringIO"
   ]
  },
  {
   "cell_type": "code",
   "execution_count": 54,
   "id": "79973ea0",
   "metadata": {},
   "outputs": [],
   "source": [
    "from io import StringIO"
   ]
  },
  {
   "cell_type": "code",
   "execution_count": 55,
   "id": "3475ab0c",
   "metadata": {},
   "outputs": [],
   "source": [
    "message='This is just a normal string.'"
   ]
  },
  {
   "cell_type": "code",
   "execution_count": 56,
   "id": "26a08b35",
   "metadata": {},
   "outputs": [],
   "source": [
    "f=StringIO(message)"
   ]
  },
  {
   "cell_type": "code",
   "execution_count": 57,
   "id": "30c8d546",
   "metadata": {},
   "outputs": [
    {
     "data": {
      "text/plain": [
       "'This is just a normal string.'"
      ]
     },
     "execution_count": 57,
     "metadata": {},
     "output_type": "execute_result"
    }
   ],
   "source": [
    "f.read()"
   ]
  },
  {
   "cell_type": "code",
   "execution_count": 58,
   "id": "bd34437f",
   "metadata": {},
   "outputs": [
    {
     "data": {
      "text/plain": [
       "40"
      ]
     },
     "execution_count": 58,
     "metadata": {},
     "output_type": "execute_result"
    }
   ],
   "source": [
    "f.write(' Second line written to file like object')"
   ]
  },
  {
   "cell_type": "code",
   "execution_count": 64,
   "id": "b7035d68",
   "metadata": {},
   "outputs": [
    {
     "data": {
      "text/plain": [
       "0"
      ]
     },
     "execution_count": 64,
     "metadata": {},
     "output_type": "execute_result"
    }
   ],
   "source": [
    "f.seek(0)"
   ]
  },
  {
   "cell_type": "code",
   "execution_count": 65,
   "id": "3da7305e",
   "metadata": {},
   "outputs": [
    {
     "data": {
      "text/plain": [
       "'This is just a normal string. Second line written to file like object'"
      ]
     },
     "execution_count": 65,
     "metadata": {},
     "output_type": "execute_result"
    }
   ],
   "source": [
    "f.read()"
   ]
  },
  {
   "cell_type": "code",
   "execution_count": null,
   "id": "a1e2b940",
   "metadata": {},
   "outputs": [],
   "source": []
  },
  {
   "cell_type": "code",
   "execution_count": null,
   "id": "d4253829",
   "metadata": {},
   "outputs": [],
   "source": []
  }
 ],
 "metadata": {
  "kernelspec": {
   "display_name": "Python 3",
   "language": "python",
   "name": "python3"
  },
  "language_info": {
   "codemirror_mode": {
    "name": "ipython",
    "version": 3
   },
   "file_extension": ".py",
   "mimetype": "text/x-python",
   "name": "python",
   "nbconvert_exporter": "python",
   "pygments_lexer": "ipython3",
   "version": "3.8.8"
  }
 },
 "nbformat": 4,
 "nbformat_minor": 5
}
